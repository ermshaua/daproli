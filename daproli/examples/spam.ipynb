{
 "cells": [
  {
   "cell_type": "markdown",
   "metadata": {},
   "source": [
    "# Ham or Spam?\n",
    "In this notebook, we use daproli to explore spam texts taken from: https://www.kaggle.com/team-ai/spam-text-message-classification"
   ]
  },
  {
   "cell_type": "code",
   "execution_count": 1,
   "metadata": {},
   "outputs": [],
   "source": [
    "import sys\n",
    "sys.path.append(\"../..\")"
   ]
  },
  {
   "cell_type": "code",
   "execution_count": 2,
   "metadata": {},
   "outputs": [],
   "source": [
    "import numpy as np\n",
    "import pandas as pd\n",
    "import matplotlib.pyplot as plt"
   ]
  },
  {
   "cell_type": "code",
   "execution_count": 3,
   "metadata": {},
   "outputs": [],
   "source": [
    "import daproli as dp"
   ]
  },
  {
   "cell_type": "code",
   "execution_count": 4,
   "metadata": {},
   "outputs": [
    {
     "data": {
      "text/html": [
       "<div>\n",
       "<style scoped>\n",
       "    .dataframe tbody tr th:only-of-type {\n",
       "        vertical-align: middle;\n",
       "    }\n",
       "\n",
       "    .dataframe tbody tr th {\n",
       "        vertical-align: top;\n",
       "    }\n",
       "\n",
       "    .dataframe thead th {\n",
       "        text-align: right;\n",
       "    }\n",
       "</style>\n",
       "<table border=\"1\" class=\"dataframe\">\n",
       "  <thead>\n",
       "    <tr style=\"text-align: right;\">\n",
       "      <th></th>\n",
       "      <th>Category</th>\n",
       "      <th>Message</th>\n",
       "    </tr>\n",
       "  </thead>\n",
       "  <tbody>\n",
       "    <tr>\n",
       "      <th>0</th>\n",
       "      <td>ham</td>\n",
       "      <td>Go until jurong point, crazy.. Available only ...</td>\n",
       "    </tr>\n",
       "    <tr>\n",
       "      <th>1</th>\n",
       "      <td>ham</td>\n",
       "      <td>Ok lar... Joking wif u oni...</td>\n",
       "    </tr>\n",
       "    <tr>\n",
       "      <th>2</th>\n",
       "      <td>spam</td>\n",
       "      <td>Free entry in 2 a wkly comp to win FA Cup fina...</td>\n",
       "    </tr>\n",
       "    <tr>\n",
       "      <th>3</th>\n",
       "      <td>ham</td>\n",
       "      <td>U dun say so early hor... U c already then say...</td>\n",
       "    </tr>\n",
       "    <tr>\n",
       "      <th>4</th>\n",
       "      <td>ham</td>\n",
       "      <td>Nah I don't think he goes to usf, he lives aro...</td>\n",
       "    </tr>\n",
       "  </tbody>\n",
       "</table>\n",
       "</div>"
      ],
      "text/plain": [
       "  Category                                            Message\n",
       "0      ham  Go until jurong point, crazy.. Available only ...\n",
       "1      ham                      Ok lar... Joking wif u oni...\n",
       "2     spam  Free entry in 2 a wkly comp to win FA Cup fina...\n",
       "3      ham  U dun say so early hor... U c already then say...\n",
       "4      ham  Nah I don't think he goes to usf, he lives aro..."
      ]
     },
     "execution_count": 4,
     "metadata": {},
     "output_type": "execute_result"
    }
   ],
   "source": [
    "df = pd.read_csv('data/spam.csv')\n",
    "df.head()"
   ]
  },
  {
   "cell_type": "markdown",
   "metadata": {},
   "source": [
    "Let's tokenize the messages and remove all special characters and stop words."
   ]
  },
  {
   "cell_type": "code",
   "execution_count": 5,
   "metadata": {},
   "outputs": [
    {
     "name": "stderr",
     "output_type": "stream",
     "text": [
      "100%|██████████| 5572/5572 [00:10<00:00, 512.44it/s]\n"
     ]
    }
   ],
   "source": [
    "from re import sub\n",
    "from nltk.corpus import stopwords\n",
    "\n",
    "cleaner = dp.Pipeline(\n",
    "    dp.Mapper(lambda word : sub('[^a-zA-Z0-9]', '', word)),\n",
    "    dp.Filter(lambda word : not word.isnumeric()),\n",
    "    dp.Filter(lambda word : len(word) > 1),\n",
    "    dp.Filter(lambda word : word not in stopwords.words('english')),\n",
    ")\n",
    "\n",
    "tokenizer = dp.Pipeline(\n",
    "    dp.Manipulator(lambda m : m.to_numpy().tolist()),\n",
    "    dp.Mapper(lambda m : m.lower()),\n",
    "    dp.Mapper(lambda m : m.split(' ')),\n",
    "    dp.Mapper(lambda words : cleaner.transform(words), expand_args=False, verbose=1),\n",
    ")\n",
    "\n",
    "messages = tokenizer.transform(df['Message'])"
   ]
  },
  {
   "cell_type": "markdown",
   "metadata": {},
   "source": [
    "Let's split ham and spam messages for further analysis."
   ]
  },
  {
   "cell_type": "code",
   "execution_count": 6,
   "metadata": {},
   "outputs": [],
   "source": [
    "ham, spam = dp.Pipeline(\n",
    "    dp.Combiner(lambda m, c : (m, c)),\n",
    "    dp.Splitter(lambda m, c : c),\n",
    "    dp.Union(\n",
    "        dp.Mapper(lambda m, c : m),\n",
    "        dp.Mapper(lambda m, c : m),\n",
    "    ),\n",
    ").transform([messages, df['Category']])"
   ]
  },
  {
   "cell_type": "markdown",
   "metadata": {},
   "source": [
    "Let's create the word distributions for both categories with words that come up at least 15% of the time."
   ]
  },
  {
   "cell_type": "code",
   "execution_count": 7,
   "metadata": {},
   "outputs": [],
   "source": [
    "from itertools import chain\n",
    "\n",
    "distribution = dp.Pipeline(\n",
    "    dp.Manipulator(chain.from_iterable),\n",
    "    dp.Manipulator(list),\n",
    "    dp.Manipulator(np.unique, return_counts=True),\n",
    "    dp.Union(\n",
    "        dp.Mapper(lambda l : l, expand_args=False),\n",
    "        dp.Manipulator(lambda c : (c - c.min()) / (c.max() - c.min())),\n",
    "    ),\n",
    "    dp.Manipulator(lambda lc : zip(*lc)),\n",
    "    dp.Filter(lambda l, c : c > .15),\n",
    "    dp.Manipulator(sorted, key = lambda x : x[1], reverse=True),\n",
    "    dp.Expander(lambda l, c : (l,c)),\n",
    "    dp.Union(dp.Manipulator(np.array), dp.Manipulator(np.array))\n",
    ")"
   ]
  },
  {
   "cell_type": "code",
   "execution_count": 8,
   "metadata": {},
   "outputs": [],
   "source": [
    "ham_bins, ham_freq = distribution.transform(ham)\n",
    "spam_bins, spam_freq = distribution.transform(spam)"
   ]
  },
  {
   "cell_type": "code",
   "execution_count": 9,
   "metadata": {},
   "outputs": [
    {
     "data": {
      "image/png": "[encoded data removed]",
      "text/plain": [
       "<Figure size 1440x360 with 1 Axes>"
      ]
     },
     "metadata": {
      "needs_background": "light"
     },
     "output_type": "display_data"
    },
    {
     "data": {
      "image/png": "[encoded data removed]",
      "text/plain": [
       "<Figure size 1440x360 with 1 Axes>"
      ]
     },
     "metadata": {
      "needs_background": "light"
     },
     "output_type": "display_data"
    }
   ],
   "source": [
    "for cat, bins, freq in zip(['Ham', 'Spam'], [ham_bins, spam_bins], [ham_freq, spam_freq]):\n",
    "    plt.figure(figsize=(20,5))\n",
    "    plt.bar(np.arange(bins.shape[0]), freq)\n",
    "    plt.title(f\"Word distribution for {cat}\")\n",
    "    plt.xticks(np.arange(bins.shape[0]), bins.tolist(), rotation=90)\n",
    "    plt.show()"
   ]
  },
  {
   "cell_type": "code",
   "execution_count": null,
   "metadata": {},
   "outputs": [],
   "source": []
  }
 ],
 "metadata": {
  "kernelspec": {
   "display_name": "Python 3",
   "language": "python",
   "name": "python3"
  },
  "language_info": {
   "codemirror_mode": {
    "name": "ipython",
    "version": 3
   },
   "file_extension": ".py",
   "mimetype": "text/x-python",
   "name": "python",
   "nbconvert_exporter": "python",
   "pygments_lexer": "ipython3",
   "version": "3.8.2"
  }
 },
 "nbformat": 4,
 "nbformat_minor": 4
}
