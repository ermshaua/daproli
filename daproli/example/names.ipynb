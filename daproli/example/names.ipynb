{
 "cells": [
  {
   "cell_type": "markdown",
   "metadata": {},
   "source": [
    "# Exploring Names\n",
    "In this notebook, we use daproli in order to explore US first names taken from https://github.com/smashew/NameDatabases."
   ]
  },
  {
   "cell_type": "code",
   "execution_count": 1,
   "metadata": {},
   "outputs": [],
   "source": [
    "import sys\n",
    "sys.path.append(\"../..\")"
   ]
  },
  {
   "cell_type": "code",
   "execution_count": 2,
   "metadata": {},
   "outputs": [],
   "source": [
    "import numpy as np\n",
    "import daproli as dp"
   ]
  },
  {
   "cell_type": "markdown",
   "metadata": {},
   "source": [
    "Let's start by loading the names."
   ]
  },
  {
   "cell_type": "code",
   "execution_count": 3,
   "metadata": {},
   "outputs": [],
   "source": [
    "first_names = np.loadtxt(fname=\"data/first_names.txt\", delimiter='\\n', dtype=np.str)"
   ]
  },
  {
   "cell_type": "code",
   "execution_count": 4,
   "metadata": {},
   "outputs": [
    {
     "data": {
      "text/plain": [
       "'Aaron, Abbey, Abbie, Abby, Abdul, Abe, Abel, Abigail, Abraham, Abram ...'"
      ]
     },
     "execution_count": 4,
     "metadata": {},
     "output_type": "execute_result"
    }
   ],
   "source": [
    "', '.join(first_names[:10]) + \" ...\""
   ]
  },
  {
   "cell_type": "markdown",
   "metadata": {},
   "source": [
    "Let's do a quick lowercase transformation."
   ]
  },
  {
   "cell_type": "code",
   "execution_count": 5,
   "metadata": {},
   "outputs": [],
   "source": [
    "first_names = dp.map(lambda name : name.lower(), first_names)"
   ]
  },
  {
   "cell_type": "markdown",
   "metadata": {},
   "source": [
    "Now, let's find all names that are symmetric."
   ]
  },
  {
   "cell_type": "code",
   "execution_count": 6,
   "metadata": {},
   "outputs": [],
   "source": [
    "def is_symmetric(name):\n",
    "    half_idx = int(len(name) / 2)\n",
    "    return name[:half_idx] == name[half_idx:][::-1]"
   ]
  },
  {
   "cell_type": "code",
   "execution_count": 7,
   "metadata": {},
   "outputs": [
    {
     "data": {
      "text/plain": [
       "['alla', 'anna', 'hannah', 'otto']"
      ]
     },
     "execution_count": 7,
     "metadata": {},
     "output_type": "execute_result"
    }
   ],
   "source": [
    "dp.filter(is_symmetric, first_names)"
   ]
  },
  {
   "cell_type": "markdown",
   "metadata": {},
   "source": [
    "Let's group all names that contain the same letters and have more than 5 variations."
   ]
  },
  {
   "cell_type": "code",
   "execution_count": 8,
   "metadata": {},
   "outputs": [
    {
     "data": {
      "text/plain": [
       "[['adina', 'daina', 'dania', 'diana', 'nadia', 'naida'],\n",
       " ['dane', 'dean', 'dena', 'edna', 'enda', 'neda'],\n",
       " ['ashlie', 'elisha', 'leisha', 'sheila', 'shelia', 'shiela'],\n",
       " ['aline', 'elina', 'laine', 'lanie', 'liane', 'nelia'],\n",
       " ['alise', 'elias', 'elisa', 'isela', 'leisa', 'lesia']]"
      ]
     },
     "execution_count": 8,
     "metadata": {},
     "output_type": "execute_result"
    }
   ],
   "source": [
    "dp.PipelineTransformer(\n",
    "    dp.SplitTransformer(lambda name : ''.join(sorted(name))),\n",
    "    dp.FilterTransformer(lambda names : len(names) > 5)\n",
    ").transform(first_names)"
   ]
  },
  {
   "cell_type": "markdown",
   "metadata": {},
   "source": [
    "Let's find all names that contain all vowels."
   ]
  },
  {
   "cell_type": "code",
   "execution_count": 9,
   "metadata": {},
   "outputs": [
    {
     "data": {
      "text/plain": [
       "['aurelio', 'eustolia', 'louvenia', 'marylouise']"
      ]
     },
     "execution_count": 9,
     "metadata": {},
     "output_type": "execute_result"
    }
   ],
   "source": [
    "dp.filter(lambda name : all(vowel in name for vowel in 'aeiou'), first_names)"
   ]
  },
  {
   "cell_type": "markdown",
   "metadata": {},
   "source": [
    "Let's find all names that contain xy."
   ]
  },
  {
   "cell_type": "code",
   "execution_count": 10,
   "metadata": {},
   "outputs": [
    {
     "data": {
      "text/plain": [
       "['roxy']"
      ]
     },
     "execution_count": 10,
     "metadata": {},
     "output_type": "execute_result"
    }
   ],
   "source": [
    "dp.filter(lambda name : all(char in name for char in 'xy'), first_names)"
   ]
  },
  {
   "cell_type": "markdown",
   "metadata": {},
   "source": [
    "Let's find all names of size 9 that only contain unique characters."
   ]
  },
  {
   "cell_type": "code",
   "execution_count": 11,
   "metadata": {},
   "outputs": [
    {
     "data": {
      "text/plain": [
       "['christena',\n",
       " 'cornelius',\n",
       " 'cristobal',\n",
       " 'florencia',\n",
       " 'francoise',\n",
       " 'hortencia',\n",
       " 'hortensia',\n",
       " 'jacquelin',\n",
       " 'jacquelyn',\n",
       " 'jacquline',\n",
       " 'josephina',\n",
       " 'marcelino',\n",
       " 'petronila',\n",
       " 'philomena',\n",
       " 'thomasine']"
      ]
     },
     "execution_count": 11,
     "metadata": {},
     "output_type": "execute_result"
    }
   ],
   "source": [
    "dp.PipelineTransformer(\n",
    "    dp.FilterTransformer(lambda name : len(name) == 9),\n",
    "    dp.FilterTransformer(lambda name : len(name) == np.unique(list(name)).shape[0])\n",
    ").transform(first_names)"
   ]
  }
 ],
 "metadata": {
  "kernelspec": {
   "display_name": "Python 3",
   "language": "python",
   "name": "python3"
  },
  "language_info": {
   "codemirror_mode": {
    "name": "ipython",
    "version": 3
   },
   "file_extension": ".py",
   "mimetype": "text/x-python",
   "name": "python",
   "nbconvert_exporter": "python",
   "pygments_lexer": "ipython3",
   "version": "3.7.4"
  }
 },
 "nbformat": 4,
 "nbformat_minor": 4
}
